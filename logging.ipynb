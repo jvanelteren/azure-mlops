{
 "metadata": {
  "language_info": {
   "codemirror_mode": {
    "name": "ipython",
    "version": 3
   },
   "file_extension": ".py",
   "mimetype": "text/x-python",
   "name": "python",
   "nbconvert_exporter": "python",
   "pygments_lexer": "ipython3",
   "version": "3.7.3-final"
  },
  "orig_nbformat": 2,
  "kernelspec": {
   "name": "python3",
   "display_name": "Python 3",
   "language": "python"
  }
 },
 "nbformat": 4,
 "nbformat_minor": 2,
 "cells": [
  {
   "cell_type": "code",
   "execution_count": 2,
   "metadata": {},
   "outputs": [],
   "source": [
    "from azureml.core import Workspace\n",
    "from azureml.core.webservice import Webservice\n",
    "\n",
    "# Requires the config to be downloaded first to the current working directory\n",
    "ws = Workspace.from_config()\n",
    "\n"
   ]
  },
  {
   "cell_type": "code",
   "execution_count": 3,
   "metadata": {},
   "outputs": [
    {
     "output_type": "stream",
     "name": "stdout",
     "text": [
      "2021-01-11T08:21:07,148408535+00:00 - rsyslog/run \n2021-01-11T08:21:07,148408535+00:00 - iot-server/run \n2021-01-11T08:21:07,148396535+00:00 - gunicorn/run \n2021-01-11T08:21:07,204761504+00:00 - nginx/run \n/usr/sbin/nginx: /azureml-envs/azureml_107c229f03ae0129e9349394e50148a8/lib/libcrypto.so.1.0.0: no version information available (required by /usr/sbin/nginx)\n/usr/sbin/nginx: /azureml-envs/azureml_107c229f03ae0129e9349394e50148a8/lib/libcrypto.so.1.0.0: no version information available (required by /usr/sbin/nginx)\n/usr/sbin/nginx: /azureml-envs/azureml_107c229f03ae0129e9349394e50148a8/lib/libssl.so.1.0.0: no version information available (required by /usr/sbin/nginx)\n/usr/sbin/nginx: /azureml-envs/azureml_107c229f03ae0129e9349394e50148a8/lib/libssl.so.1.0.0: no version information available (required by /usr/sbin/nginx)\n/usr/sbin/nginx: /azureml-envs/azureml_107c229f03ae0129e9349394e50148a8/lib/libssl.so.1.0.0: no version information available (required by /usr/sbin/nginx)\nEdgeHubConnectionString and IOTEDGE_IOTHUBHOSTNAME are not set. Exiting...\n2021-01-11T08:21:07,369440135+00:00 - iot-server/finish 1 0\n2021-01-11T08:21:07,370598728+00:00 - Exit code 1 is normal. Not restarting iot-server.\nrsyslogd: /azureml-envs/azureml_107c229f03ae0129e9349394e50148a8/lib/libuuid.so.1: no version information available (required by rsyslogd)\nStarting gunicorn 19.9.0\nListening at: http://127.0.0.1:31311 (13)\nUsing worker: sync\nworker timeout is set to 300\nBooting worker with pid: 42\nSPARK_HOME not set. Skipping PySpark Initialization.\nGenerating new fontManager, this may take some time...\nInitializing logger\n2021-01-11 08:21:10,113 | root | INFO | Starting up app insights client\nStarting up app insights client\n2021-01-11 08:21:10,113 | root | INFO | Starting up request id generator\nStarting up request id generator\n2021-01-11 08:21:10,113 | root | INFO | Starting up app insight hooks\nStarting up app insight hooks\n2021-01-11 08:21:10,114 | root | INFO | Invoking user's init function\nInvoking user's init function\nBetter speed can be achieved with apex installed from https://www.github.com/nvidia/apex .\nBetter speed can be achieved with apex installed from https://www.github.com/nvidia/apex .\n2021-01-11 08:21:12,816 | root | INFO | Users's init has completed successfully\nUsers's init has completed successfully\n2021-01-11 08:21:12,820 | root | INFO | Skipping middleware: dbg_model_info as it's not enabled.\nSkipping middleware: dbg_model_info as it's not enabled.\n2021-01-11 08:21:12,820 | root | INFO | Skipping middleware: dbg_resource_usage as it's not enabled.\nSkipping middleware: dbg_resource_usage as it's not enabled.\n2021-01-11 08:21:12,822 | root | INFO | Scoring timeout is found from os.environ: 60000 ms\nScoring timeout is found from os.environ: 60000 ms\n2021-01-11 08:21:19,053 | root | INFO | 200\n200\n127.0.0.1 - - [11/Jan/2021:08:21:19 +0000] \"GET /swagger.json HTTP/1.0\" 200 4483 \"-\" \"Go-http-client/1.1\"\n2021-01-11 08:24:30,478 | root | INFO | 200\n200\n127.0.0.1 - - [11/Jan/2021:08:24:30 +0000] \"GET /swagger.json HTTP/1.0\" 200 4483 \"-\" \"Go-http-client/1.1\"\n2021-01-11 08:24:30,964 | root | INFO | 200\n200\n127.0.0.1 - - [11/Jan/2021:08:24:30 +0000] \"GET /swagger.json HTTP/1.0\" 200 4483 \"-\" \"Go-http-client/1.1\"\n2021-01-11 08:25:25,624 | root | INFO | 200\n200\n127.0.0.1 - - [11/Jan/2021:08:25:25 +0000] \"GET /swagger.json HTTP/1.0\" 200 4483 \"-\" \"Go-http-client/1.1\"\n2021-01-11 08:25:27,844 | root | INFO | 200\n200\n127.0.0.1 - - [11/Jan/2021:08:25:27 +0000] \"GET /swagger.json HTTP/1.0\" 200 4483 \"-\" \"Go-http-client/1.1\"\n\n"
     ]
    }
   ],
   "source": [
    "# Set with the deployment name\n",
    "name = \"nba-endpoint\"\n",
    "\n",
    "# load existing web service\n",
    "service = Webservice(name=name, workspace=ws)\n",
    "\n",
    "# enable application insight\n",
    "service.update(enable_app_insights=True)\n",
    "\n",
    "logs = service.get_logs()\n",
    "\n",
    "for line in logs.split('\\n'):\n",
    "    print(line)"
   ]
  },
  {
   "cell_type": "code",
   "execution_count": null,
   "metadata": {},
   "outputs": [],
   "source": []
  }
 ]
}